{
 "cells": [
  {
   "cell_type": "code",
   "execution_count": 5,
   "metadata": {
    "collapsed": false
   },
   "outputs": [
   ],
   "source": [
    "import random"
   ]
  },
  {
   "cell_type": "code",
   "execution_count": 6,
   "metadata": {
    "collapsed": false
   },
   "outputs": [
   ],
   "source": [
    "def miller_rabin(b, n):\n",
    "    R = IntegerModRing(n)\n",
    "    m = n - 1\n",
    "    s = 0\n",
    "    while(m%2==0):\n",
    "        s += 1\n",
    "        m /= 2\n",
    "    b = R(power_mod(b,m,n))\n",
    "    if (b == 1):\n",
    "        return True\n",
    "    for i in range(s):\n",
    "        if (b == R(-1)):\n",
    "            return True\n",
    "        if (b == 1):\n",
    "            return False\n",
    "        b = power_mod(b,2,n)\n",
    "    return False"
   ]
  },
  {
   "cell_type": "code",
   "execution_count": 7,
   "metadata": {
    "collapsed": false
   },
   "outputs": [
   ],
   "source": [
    "def full_test(n, m):\n",
    "    b_list = random.sample(range(2, n-2), m)\n",
    "    print(\"Tested integers: \" + str(b_list))\n",
    "    for b in b_list:\n",
    "        if (not miller_rabin(b, n)):\n",
    "            print(str(n) + \" is composite\")\n",
    "            return True\n",
    "    prob = float(1 - pow(1/4,m))\n",
    "    print(str(n) + \" is a probable prime with probability at least \" + str(prob))\n",
    "    return prob"
   ]
  },
  {
   "cell_type": "code",
   "execution_count": 8,
   "metadata": {
    "collapsed": false
   },
   "outputs": [
    {
     "name": "stdout",
     "output_type": "stream",
     "text": [
      "10\n"
     ]
    }
   ],
   "source": [
    "# Finding the necessary m to be at least 0.999999\n",
    "min_prob = 0.999999\n",
    "min_m = 1\n",
    "while(1 - pow(1/4,min_m) < min_prob):\n",
    "    min_m += 1\n",
    "print(min_m)"
   ]
  },
  {
   "cell_type": "code",
   "execution_count": 9,
   "metadata": {
    "collapsed": false,
    "scrolled": true
   },
   "outputs": [
    {
     "name": "stdout",
     "output_type": "stream",
     "text": [
      "Tested integers: [421288640, 726504862, 100320830, 3261826861, 4519425065, 2037804938, 2155943427, 2686718249, 2423049475, 2363582916]\n",
      "5063381639 is a probable prime with probability at least 0.9999990463256836\n",
      "Tested integers: [5955961797, 11521671218, 13816081404, 4340833734, 15852247063, 19495663617, 1816498477, 3314725772, 14633506830, 14920310665]\n",
      "22012025438 is composite\n"
     ]
    },
    {
     "data": {
      "text/plain": [
       "False"
      ]
     },
     "execution_count": 9,
     "metadata": {
     },
     "output_type": "execute_result"
    }
   ],
   "source": [
    "definite_prime = random_prime(10^10, proof = True)\n",
    "full_test(definite_prime, min_m);\n",
    "possible_composite = ZZ.random_element(10^10,10^11 - 1)\n",
    "full_test(possible_composite, min_m);\n",
    "is_prime(possible_composite)"
   ]
  }
 ],
 "metadata": {
  "kernelspec": {
   "display_name": "SageMath 9.7",
   "language": "sagemath",
   "metadata": {
    "cocalc": {
     "description": "Open-source mathematical software system",
     "priority": 10,
     "url": "https://www.sagemath.org/"
    }
   },
   "name": "sage-9.7",
   "resource_dir": "/ext/jupyter/kernels/sage-9.7"
  },
  "language_info": {
   "codemirror_mode": {
    "name": "ipython",
    "version": 3
   },
   "file_extension": ".py",
   "mimetype": "text/x-python",
   "name": "python",
   "nbconvert_exporter": "python",
   "pygments_lexer": "ipython3",
   "version": "3.10.5"
  }
 },
 "nbformat": 4,
 "nbformat_minor": 4
}